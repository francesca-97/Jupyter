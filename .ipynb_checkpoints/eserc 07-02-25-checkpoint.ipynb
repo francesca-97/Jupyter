{
 "cells": [
  {
   "cell_type": "code",
   "execution_count": 1,
   "id": "abfe1c27-39a9-4a3f-bd93-c9b3ed2d341d",
   "metadata": {},
   "outputs": [
    {
     "name": "stdout",
     "output_type": "stream",
     "text": [
      "Hello, World\n"
     ]
    }
   ],
   "source": [
    "print(\"Hello, World\")"
   ]
  },
  {
   "cell_type": "code",
   "execution_count": 4,
   "id": "a25b22ba-15f9-4b8a-a6e8-b4fbe7cdff6a",
   "metadata": {},
   "outputs": [],
   "source": [
    "import random\n",
    "num = random.randint(1,50)"
   ]
  },
  {
   "cell_type": "code",
   "execution_count": 5,
   "id": "99b22190-017a-4342-ae19-2988addd25c5",
   "metadata": {},
   "outputs": [
    {
     "name": "stdout",
     "output_type": "stream",
     "text": [
      "40\n"
     ]
    }
   ],
   "source": [
    "print(num)"
   ]
  },
  {
   "cell_type": "code",
   "execution_count": 6,
   "id": "8bfcc870-98b0-4502-8a64-96fd14666483",
   "metadata": {},
   "outputs": [],
   "source": [
    "obj = [50]"
   ]
  },
  {
   "cell_type": "code",
   "execution_count": 8,
   "id": "4f5b49fd-98fa-4a28-9604-c69729906e68",
   "metadata": {},
   "outputs": [
    {
     "name": "stdout",
     "output_type": "stream",
     "text": [
      "265 ns ± 42.1 ns per loop (mean ± std. dev. of 7 runs, 1,000,000 loops each)\n"
     ]
    }
   ],
   "source": [
    "%timeit [num for num in obj]"
   ]
  },
  {
   "cell_type": "markdown",
   "id": "a43a41f8-3d8f-45d3-bc76-c101737c5696",
   "metadata": {},
   "source": []
  },
  {
   "cell_type": "markdown",
   "id": "3a27591b-9d84-4474-8426-b2f129a53948",
   "metadata": {},
   "source": [
    "wow mi stupisco"
   ]
  },
  {
   "cell_type": "code",
   "execution_count": null,
   "id": "29112864-ad27-4bd5-81bc-00c551d8f087",
   "metadata": {},
   "outputs": [],
   "source": []
  },
  {
   "cell_type": "code",
   "execution_count": null,
   "id": "70f992ec-c909-41b6-88a0-93a677aa8b7f",
   "metadata": {},
   "outputs": [],
   "source": []
  }
 ],
 "metadata": {
  "kernelspec": {
   "display_name": "Python 3 (ipykernel)",
   "language": "python",
   "name": "python3"
  },
  "language_info": {
   "codemirror_mode": {
    "name": "ipython",
    "version": 3
   },
   "file_extension": ".py",
   "mimetype": "text/x-python",
   "name": "python",
   "nbconvert_exporter": "python",
   "pygments_lexer": "ipython3",
   "version": "3.13.1"
  }
 },
 "nbformat": 4,
 "nbformat_minor": 5
}
