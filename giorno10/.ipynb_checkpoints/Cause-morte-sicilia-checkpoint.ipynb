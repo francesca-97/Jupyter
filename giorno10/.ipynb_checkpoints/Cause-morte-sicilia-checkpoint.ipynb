{
 "cells": [
  {
   "cell_type": "markdown",
   "id": "5e37db91-6fcb-4c44-a4da-2b7153ccacf9",
   "metadata": {},
   "source": [
    "# Scaricare il file JSON\n",
    "Scarico il file JSON. Uso la libreria requests per fare una richiesta HTTP e ottenere i dati."
   ]
  },
  {
   "cell_type": "code",
   "execution_count": 21,
   "id": "f127cd39-d57e-483b-a4e9-bbb76f880b6b",
   "metadata": {},
   "outputs": [
    {
     "name": "stdout",
     "output_type": "stream",
     "text": [
      "File scaricato con successo!\n"
     ]
    }
   ],
   "source": [
    "import requests\n",
    "\n",
    "url = 'https://dati.regione.sicilia.it/dataset/1550ec68-e4d2-49ee-b86e-6556b6cae303/resource/5c7f9425-f36e-47b3-9854-3d277b41bb7d/download/cause_morte.json'\n",
    "response = requests.get(url)\n",
    "\n",
    "# Verifica se la richiesta è stata eseguita con successo\n",
    "if response.status_code == 200:\n",
    "    print(\"File scaricato con successo!\")\n",
    "    data = response.json()\n",
    "else:\n",
    "    print(\"Errore nel download del file:\", response.status_code)\n"
   ]
  },
  {
   "cell_type": "markdown",
   "id": "db8cee32-e283-4427-939b-9afd9ff2a866",
   "metadata": {},
   "source": [
    "# Carico i dati in un Dataframe"
   ]
  },
  {
   "cell_type": "code",
   "execution_count": 22,
   "id": "c5626b2f-b900-4638-8072-562c74587d9e",
   "metadata": {},
   "outputs": [
    {
     "name": "stdout",
     "output_type": "stream",
     "text": [
      "     PERIODO TERRITORIO                          PATOLOGIA MASCHI FEMMINE\n",
      "0  2009-2017     081001  Malattie infettive e parassitarie      4       6\n",
      "1  2009-2017     081001                        Tubercolosi      1       1\n",
      "2  2009-2017     081001                     Epatite virale      1       0\n",
      "3  2009-2017     081001                             Tumore    560     435\n",
      "4  2009-2017     081001                     Tumori maligni    545     426\n"
     ]
    }
   ],
   "source": [
    "import pandas as pd\n",
    "\n",
    "# Carico i dati nel DataFrame\n",
    "df = pd.DataFrame(data)\n",
    "\n",
    "# Visualizzo le prime righe per capire la struttura dei dati\n",
    "print(df.head())\n"
   ]
  },
  {
   "cell_type": "markdown",
   "id": "ddf6ee02-f80e-4b98-a529-d216c9b7b70d",
   "metadata": {},
   "source": [
    "# Esporto i dati in un file CSV"
   ]
  },
  {
   "cell_type": "code",
   "execution_count": 23,
   "id": "ab7c7754-e300-416e-a331-291d45d91220",
   "metadata": {},
   "outputs": [
    {
     "name": "stdout",
     "output_type": "stream",
     "text": [
      "File CSV esportato con successo!\n"
     ]
    }
   ],
   "source": [
    "\n",
    "df.to_csv('cause_morte_sicilia.csv', index=False)\n",
    "\n",
    "print(\"File CSV esportato con successo!\")\n"
   ]
  },
  {
   "cell_type": "markdown",
   "id": "81f6a50f-3917-4fb2-8b81-0204310e64d3",
   "metadata": {},
   "source": [
    "# Raggruppare i dati per patologia e territorio\n",
    "\n",
    "Poiché le patologie si ripetono per ogni territorio,  raggruppo i dati prima per PATOLOGIA e poi per TERRITORIO. In questo modo posso sommare i decessi per MASCHI e FEMMINE e avere il totale delle morti per ciascun gruppo."
   ]
  },
  {
   "cell_type": "code",
   "execution_count": 24,
   "id": "52a405c0-6172-4897-aa00-86e43a75feaf",
   "metadata": {},
   "outputs": [
    {
     "data": {
      "text/html": [
       "<div>\n",
       "<style scoped>\n",
       "    .dataframe tbody tr th:only-of-type {\n",
       "        vertical-align: middle;\n",
       "    }\n",
       "\n",
       "    .dataframe tbody tr th {\n",
       "        vertical-align: top;\n",
       "    }\n",
       "\n",
       "    .dataframe thead th {\n",
       "        text-align: right;\n",
       "    }\n",
       "</style>\n",
       "<table border=\"1\" class=\"dataframe\">\n",
       "  <thead>\n",
       "    <tr style=\"text-align: right;\">\n",
       "      <th></th>\n",
       "      <th>PERIODO</th>\n",
       "      <th>PATOLOGIA</th>\n",
       "      <th>TERRITORIO</th>\n",
       "      <th>MASCHI</th>\n",
       "      <th>FEMMINE</th>\n",
       "      <th>TOTALE</th>\n",
       "    </tr>\n",
       "  </thead>\n",
       "  <tbody>\n",
       "    <tr>\n",
       "      <th>0</th>\n",
       "      <td>2009-2017</td>\n",
       "      <td>AIDS (malattia da HIV)</td>\n",
       "      <td>083032</td>\n",
       "      <td>1</td>\n",
       "      <td>0</td>\n",
       "      <td>10</td>\n",
       "    </tr>\n",
       "    <tr>\n",
       "      <th>1</th>\n",
       "      <td>2009-2017</td>\n",
       "      <td>AIDS (malattia da HIV)</td>\n",
       "      <td>087011</td>\n",
       "      <td>1</td>\n",
       "      <td>0</td>\n",
       "      <td>10</td>\n",
       "    </tr>\n",
       "    <tr>\n",
       "      <th>2</th>\n",
       "      <td>2009-2017</td>\n",
       "      <td>AIDS (malattia da HIV)</td>\n",
       "      <td>087015</td>\n",
       "      <td>2</td>\n",
       "      <td>2</td>\n",
       "      <td>22</td>\n",
       "    </tr>\n",
       "    <tr>\n",
       "      <th>3</th>\n",
       "      <td>2009-2017</td>\n",
       "      <td>AIDS (malattia da HIV)</td>\n",
       "      <td>087025</td>\n",
       "      <td>1</td>\n",
       "      <td>0</td>\n",
       "      <td>10</td>\n",
       "    </tr>\n",
       "    <tr>\n",
       "      <th>4</th>\n",
       "      <td>2009-2017</td>\n",
       "      <td>Abuso di alcool (compresa psicosi alcolica)</td>\n",
       "      <td>081001</td>\n",
       "      <td>1</td>\n",
       "      <td>0</td>\n",
       "      <td>10</td>\n",
       "    </tr>\n",
       "  </tbody>\n",
       "</table>\n",
       "</div>"
      ],
      "text/plain": [
       "     PERIODO                                    PATOLOGIA TERRITORIO MASCHI  \\\n",
       "0  2009-2017                       AIDS (malattia da HIV)     083032      1   \n",
       "1  2009-2017                       AIDS (malattia da HIV)     087011      1   \n",
       "2  2009-2017                       AIDS (malattia da HIV)     087015      2   \n",
       "3  2009-2017                       AIDS (malattia da HIV)     087025      1   \n",
       "4  2009-2017  Abuso di alcool (compresa psicosi alcolica)     081001      1   \n",
       "\n",
       "  FEMMINE TOTALE  \n",
       "0       0     10  \n",
       "1       0     10  \n",
       "2       2     22  \n",
       "3       0     10  \n",
       "4       0     10  "
      ]
     },
     "execution_count": 24,
     "metadata": {},
     "output_type": "execute_result"
    }
   ],
   "source": [
    "# Raggruppare i dati per patologia e territorio e sommare i valori per maschi e femmine\n",
    "df_aggregato = df.groupby(['PERIODO', 'PATOLOGIA', 'TERRITORIO']).agg({\n",
    "    'MASCHI': 'sum',\n",
    "    'FEMMINE': 'sum'\n",
    "}).reset_index()\n",
    "\n",
    "# Aggiungere una colonna \"TOTALE\" che è la somma dei decessi maschili e femminili\n",
    "df_aggregato['TOTALE'] = df_aggregato['MASCHI'] + df_aggregato['FEMMINE']\n",
    "\n",
    "# Visualizzare i dati aggregati\n",
    "df_aggregato.head()\n"
   ]
  },
  {
   "cell_type": "code",
   "execution_count": 25,
   "id": "85998125-e785-4075-ad54-2e9aa716af34",
   "metadata": {},
   "outputs": [],
   "source": [
    "df_aggregato.to_csv('cause_morte_sicilia_aggregato.csv', index=False)\n"
   ]
  },
  {
   "cell_type": "markdown",
   "id": "6290da37-0331-4416-89b8-8dcd9d3c020c",
   "metadata": {},
   "source": [
    "# *Top 10 patologie con il maggior numero di casi nei maschi*"
   ]
  },
  {
   "cell_type": "code",
   "execution_count": 26,
   "id": "a1a8490a-b766-4188-820b-82ed5389f375",
   "metadata": {},
   "outputs": [
    {
     "name": "stdout",
     "output_type": "stream",
     "text": [
      "PATOLOGIA\n",
      "Malattie del sistema circolatorio                             81203\n",
      "Tumore                                                        66537\n",
      "Tumori maligni                                                65183\n",
      "Malattie ischemiche del cuore                                 23722\n",
      "Malattie cerebrovascolari                                     23689\n",
      "Tumori maligni della laringe e della trachea/bronchi/polm.    18343\n",
      "Malattie del sistema respiratorio                             16800\n",
      "Altre malattie del cuore                                      16310\n",
      "Malattie endocrine, nutrizionali e metaboliche                11474\n",
      "Diabete mellito                                               10548\n",
      "Name: MASCHI, dtype: int64\n"
     ]
    }
   ],
   "source": [
    "\n",
    "df['MASCHI'] = pd.to_numeric(df['MASCHI'], errors='coerce')  # Converte a numerico, tralasciando errori\n",
    "\n",
    "# Calcola le top 10 patologie per maschi\n",
    "top_10_patologie_maschi = df.groupby('PATOLOGIA')['MASCHI'].sum().sort_values(ascending=False).head(10)\n",
    "\n",
    "# Visualizza il risultato\n",
    "print(top_10_patologie_maschi)\n"
   ]
  },
  {
   "cell_type": "markdown",
   "id": "7755a974-b2a3-48c7-b0f6-4f3acaec38c3",
   "metadata": {},
   "source": [
    " # *Top 10 patologie con il maggior numero di casi nelle femmine*"
   ]
  },
  {
   "cell_type": "code",
   "execution_count": 27,
   "id": "684660ae-884b-4b88-a136-0f3943c3406d",
   "metadata": {},
   "outputs": [
    {
     "name": "stdout",
     "output_type": "stream",
     "text": [
      "PATOLOGIA\n",
      "Malattie del sistema circolatorio                             81203\n",
      "Tumore                                                        66537\n",
      "Tumori maligni                                                65183\n",
      "Malattie ischemiche del cuore                                 23722\n",
      "Malattie cerebrovascolari                                     23689\n",
      "Tumori maligni della laringe e della trachea/bronchi/polm.    18343\n",
      "Malattie del sistema respiratorio                             16800\n",
      "Altre malattie del cuore                                      16310\n",
      "Malattie endocrine, nutrizionali e metaboliche                11474\n",
      "Diabete mellito                                               10548\n",
      "Name: MASCHI, dtype: int64\n"
     ]
    }
   ],
   "source": [
    "\n",
    "df['FEMMINE'] = pd.to_numeric(df['FEMMINE'], errors='coerce')  # Converte a numerico, tralasciando errori\n",
    "\n",
    "# Calcola le top 10 patologie per maschi\n",
    "top_10_patologie_femmine = df.groupby('PATOLOGIA')['MASCHI'].sum().sort_values(ascending=False).head(10)\n",
    "\n",
    "# Visualizza il risultato\n",
    "print(top_10_patologie_femmine)\n"
   ]
  },
  {
   "cell_type": "code",
   "execution_count": 28,
   "id": "3821d590-9c93-41b4-b87a-373458c9d266",
   "metadata": {},
   "outputs": [],
   "source": [
    "df['TOTALE'] = df['MASCHI'] + df['FEMMINE']"
   ]
  },
  {
   "cell_type": "markdown",
   "id": "a9c2034a-c59a-4f73-9aa3-17f84eb645c5",
   "metadata": {},
   "source": [
    "# *Territorio con maggior numero di patologie*"
   ]
  },
  {
   "cell_type": "code",
   "execution_count": 29,
   "id": "39d57543-0aeb-46b4-8e5f-b908c4d19b32",
   "metadata": {},
   "outputs": [
    {
     "name": "stdout",
     "output_type": "stream",
     "text": [
      "TERRITORIO\n",
      "082053    111706\n",
      "Name: TOTALE, dtype: int64\n"
     ]
    }
   ],
   "source": [
    "\n",
    "territorio_top = df.groupby('TERRITORIO')['TOTALE'].sum().sort_values(ascending=False).head(1)\n",
    "\n",
    "print(territorio_top)"
   ]
  },
  {
   "cell_type": "markdown",
   "id": "88fa36e8-d476-427c-bf24-28c286c506f5",
   "metadata": {},
   "source": [
    "CODICE ISTAT 082053 = PALERMO"
   ]
  },
  {
   "cell_type": "markdown",
   "id": "05288034-e1b6-4793-8cee-5a133d77c9fc",
   "metadata": {},
   "source": [
    "# Top 10 Territori con il Maggior Numero di Patologie Totali"
   ]
  },
  {
   "cell_type": "code",
   "execution_count": 30,
   "id": "49d6617f-b3e7-4945-84dc-ac2818a29d98",
   "metadata": {
    "scrolled": true
   },
   "outputs": [
    {
     "name": "stdout",
     "output_type": "stream",
     "text": [
      "TERRITORIO\n",
      "082053    111706\n",
      "087015     59181\n",
      "083048     45949\n",
      "089017     20622\n",
      "081011     15672\n",
      "088009     13599\n",
      "081021     13022\n",
      "085004     11513\n",
      "085007     11149\n",
      "084001     10292\n",
      "Name: TOTALE, dtype: int64\n"
     ]
    }
   ],
   "source": [
    "\n",
    "top_10_territori = df.groupby('TERRITORIO')['TOTALE'].sum().sort_values(ascending=False).head(10)\n",
    "\n",
    "print(top_10_territori)\n"
   ]
  },
  {
   "cell_type": "markdown",
   "id": "ba3d9222-b47e-4ad5-9028-0958005e7c21",
   "metadata": {},
   "source": [
    "082053: Palermo\n",
    "087015: Mazara del Vallo\n",
    "083048: Catania\n",
    "089017: Messina\n",
    "081011: Marsala\n",
    "088009: Ragusa\n",
    "081021: Trapani\n",
    "085004: Enna\n",
    "085007: Caltanissetta\n",
    "084001: Agrigento"
   ]
  },
  {
   "cell_type": "markdown",
   "id": "e0563912-6934-4b5a-88d6-ec81cb547346",
   "metadata": {},
   "source": [
    "# Patologie più comuni in un territorio specifico (Canicattì)\n",
    "CODICE ISTAT = 084001"
   ]
  },
  {
   "cell_type": "code",
   "execution_count": 31,
   "id": "e16b9784-caa0-4ea4-8955-d073ca29e501",
   "metadata": {},
   "outputs": [
    {
     "name": "stdout",
     "output_type": "stream",
     "text": [
      "PATOLOGIA\n",
      "Malattie del sistema circolatorio                             2171\n",
      "Tumore                                                        1415\n",
      "Tumori maligni                                                1396\n",
      "Malattie cerebrovascolari                                      579\n",
      "Malattie ischemiche del cuore                                  541\n",
      "Altre malattie del cuore                                       461\n",
      "Malattie del sistema respiratorio                              327\n",
      "Malattie endocrine, nutrizionali e metaboliche                 303\n",
      "Tumori maligni della laringe e della trachea/bronchi/polm.     298\n",
      "Diabete mellito                                                272\n",
      "Malattie del sistema nervoso e degli organi di senso           193\n",
      "Malattie croniche delle basse vie respiratorie                 186\n",
      "Malattie dell'apparato digerente                               186\n",
      "Malattie del sistema genitourinario                            163\n",
      "Malattie del rene e dell'uretere                               157\n",
      "Name: TOTALE, dtype: int64\n"
     ]
    }
   ],
   "source": [
    "\n",
    "territorio_analizzato = '084001'  # Codice ISTAT CANICATTI\n",
    "patologie_territorio = df[df['TERRITORIO'] == territorio_analizzato].groupby('PATOLOGIA')['TOTALE'].sum().sort_values(ascending=False).head(15)\n",
    "print(patologie_territorio)\n",
    "\n"
   ]
  },
  {
   "cell_type": "markdown",
   "id": "a0e24c8a-bc3a-427f-b59f-849e148dda84",
   "metadata": {},
   "source": [
    "# Le patologie più comuni in ciascun territorio"
   ]
  },
  {
   "cell_type": "code",
   "execution_count": 32,
   "id": "d3a77ba9-4b35-4434-87de-aa61391be2eb",
   "metadata": {},
   "outputs": [
    {
     "name": "stdout",
     "output_type": "stream",
     "text": [
      "TERRITORIO\n",
      "081001    Malattie del sistema circolatorio\n",
      "081002    Malattie del sistema circolatorio\n",
      "081003    Malattie del sistema circolatorio\n",
      "081004    Malattie del sistema circolatorio\n",
      "081005    Malattie del sistema circolatorio\n",
      "                        ...                \n",
      "089017    Malattie del sistema circolatorio\n",
      "089018    Malattie del sistema circolatorio\n",
      "089019    Malattie del sistema circolatorio\n",
      "089020    Malattie del sistema circolatorio\n",
      "089021    Malattie del sistema circolatorio\n",
      "Length: 390, dtype: object\n"
     ]
    }
   ],
   "source": [
    "patologie_territorio = df.groupby(['TERRITORIO', 'PATOLOGIA'])['TOTALE'].sum().unstack().fillna(0)\n",
    "top_patologie_per_territorio = patologie_territorio.apply(lambda x: x.idxmax(), axis=1)\n",
    "print(top_patologie_per_territorio)\n"
   ]
  },
  {
   "cell_type": "markdown",
   "id": "f4f8c9f0-db53-40c2-9b15-eddca2f3db1c",
   "metadata": {},
   "source": [
    "*Si evince che le malattie cardiovascolari sono la prima causa di morte in tutto il territorio*"
   ]
  },
  {
   "cell_type": "markdown",
   "id": "73e72640-e198-4c7a-be8f-115647c2c7b8",
   "metadata": {},
   "source": [
    "# Distribuzione delle patologie per territorio (barplot)\n",
    "Un grafico a barre che mostra la somma totale di tutte le patologie per ogni territorio. Questo ci aiuta a capire quale territorio ha il maggior numero complessivo di casi. "
   ]
  },
  {
   "cell_type": "code",
   "execution_count": 4,
   "id": "2653eb79-d95a-4624-bd36-b6b16fe6ecaf",
   "metadata": {},
   "outputs": [
    {
     "name": "stdout",
     "output_type": "stream",
     "text": [
      "Requirement already satisfied: matplotlib in c:\\users\\fmonc\\pycharmmiscproject\\.venv\\lib\\site-packages (3.10.0)\n",
      "Requirement already satisfied: contourpy>=1.0.1 in c:\\users\\fmonc\\pycharmmiscproject\\.venv\\lib\\site-packages (from matplotlib) (1.3.1)\n",
      "Requirement already satisfied: cycler>=0.10 in c:\\users\\fmonc\\pycharmmiscproject\\.venv\\lib\\site-packages (from matplotlib) (0.12.1)\n",
      "Requirement already satisfied: fonttools>=4.22.0 in c:\\users\\fmonc\\pycharmmiscproject\\.venv\\lib\\site-packages (from matplotlib) (4.56.0)\n",
      "Requirement already satisfied: kiwisolver>=1.3.1 in c:\\users\\fmonc\\pycharmmiscproject\\.venv\\lib\\site-packages (from matplotlib) (1.4.8)\n",
      "Requirement already satisfied: numpy>=1.23 in c:\\users\\fmonc\\pycharmmiscproject\\.venv\\lib\\site-packages (from matplotlib) (2.2.2)\n",
      "Requirement already satisfied: packaging>=20.0 in c:\\users\\fmonc\\pycharmmiscproject\\.venv\\lib\\site-packages (from matplotlib) (24.2)\n",
      "Requirement already satisfied: pillow>=8 in c:\\users\\fmonc\\pycharmmiscproject\\.venv\\lib\\site-packages (from matplotlib) (11.1.0)\n",
      "Requirement already satisfied: pyparsing>=2.3.1 in c:\\users\\fmonc\\pycharmmiscproject\\.venv\\lib\\site-packages (from matplotlib) (3.2.1)\n",
      "Requirement already satisfied: python-dateutil>=2.7 in c:\\users\\fmonc\\pycharmmiscproject\\.venv\\lib\\site-packages (from matplotlib) (2.9.0.post0)\n",
      "Requirement already satisfied: six>=1.5 in c:\\users\\fmonc\\pycharmmiscproject\\.venv\\lib\\site-packages (from python-dateutil>=2.7->matplotlib) (1.17.0)\n"
     ]
    }
   ],
   "source": [
    "!pip install matplotlib"
   ]
  },
  {
   "cell_type": "code",
   "execution_count": 5,
   "id": "9a62c779-6199-43e3-9470-e696f9470f4c",
   "metadata": {},
   "outputs": [
    {
     "ename": "ValueError",
     "evalue": "Key backend: 'module://matplotlib_inline.backend_inline' is not a valid value for backend; supported values are ['gtk3agg', 'gtk3cairo', 'gtk4agg', 'gtk4cairo', 'macosx', 'nbagg', 'notebook', 'qtagg', 'qtcairo', 'qt5agg', 'qt5cairo', 'tkagg', 'tkcairo', 'webagg', 'wx', 'wxagg', 'wxcairo', 'agg', 'cairo', 'pdf', 'pgf', 'ps', 'svg', 'template']",
     "output_type": "error",
     "traceback": [
      "\u001b[1;31m---------------------------------------------------------------------------\u001b[0m",
      "\u001b[1;31mValueError\u001b[0m                                Traceback (most recent call last)",
      "Cell \u001b[1;32mIn[5], line 1\u001b[0m\n\u001b[1;32m----> 1\u001b[0m \u001b[38;5;28;01mimport\u001b[39;00m\u001b[38;5;250m \u001b[39m\u001b[38;5;21;01mmatplotlib\u001b[39;00m\n\u001b[0;32m      2\u001b[0m matplotlib\u001b[38;5;241m.\u001b[39muse(\u001b[38;5;124m'\u001b[39m\u001b[38;5;124mTkAgg\u001b[39m\u001b[38;5;124m'\u001b[39m)  \u001b[38;5;66;03m# O puoi provare 'Qt5Agg' o altri supportati\u001b[39;00m\n\u001b[0;32m      4\u001b[0m \u001b[38;5;28;01mimport\u001b[39;00m\u001b[38;5;250m \u001b[39m\u001b[38;5;21;01mmatplotlib\u001b[39;00m\u001b[38;5;21;01m.\u001b[39;00m\u001b[38;5;21;01mpyplot\u001b[39;00m\u001b[38;5;250m \u001b[39m\u001b[38;5;28;01mas\u001b[39;00m\u001b[38;5;250m \u001b[39m\u001b[38;5;21;01mplt\u001b[39;00m\n",
      "File \u001b[1;32m~\\PyCharmMiscProject\\.venv\\Lib\\site-packages\\matplotlib\\__init__.py:1296\u001b[0m\n\u001b[0;32m   1292\u001b[0m     rcParams[\u001b[38;5;124m'\u001b[39m\u001b[38;5;124mbackend_fallback\u001b[39m\u001b[38;5;124m'\u001b[39m] \u001b[38;5;241m=\u001b[39m \u001b[38;5;28;01mFalse\u001b[39;00m\n\u001b[0;32m   1295\u001b[0m \u001b[38;5;28;01mif\u001b[39;00m os\u001b[38;5;241m.\u001b[39menviron\u001b[38;5;241m.\u001b[39mget(\u001b[38;5;124m'\u001b[39m\u001b[38;5;124mMPLBACKEND\u001b[39m\u001b[38;5;124m'\u001b[39m):\n\u001b[1;32m-> 1296\u001b[0m     \u001b[43mrcParams\u001b[49m\u001b[43m[\u001b[49m\u001b[38;5;124;43m'\u001b[39;49m\u001b[38;5;124;43mbackend\u001b[39;49m\u001b[38;5;124;43m'\u001b[39;49m\u001b[43m]\u001b[49m \u001b[38;5;241m=\u001b[39m os\u001b[38;5;241m.\u001b[39menviron\u001b[38;5;241m.\u001b[39mget(\u001b[38;5;124m'\u001b[39m\u001b[38;5;124mMPLBACKEND\u001b[39m\u001b[38;5;124m'\u001b[39m)\n\u001b[0;32m   1299\u001b[0m \u001b[38;5;28;01mdef\u001b[39;00m\u001b[38;5;250m \u001b[39m\u001b[38;5;21mget_backend\u001b[39m(\u001b[38;5;241m*\u001b[39m, auto_select\u001b[38;5;241m=\u001b[39m\u001b[38;5;28;01mTrue\u001b[39;00m):\n\u001b[0;32m   1300\u001b[0m \u001b[38;5;250m    \u001b[39m\u001b[38;5;124;03m\"\"\"\u001b[39;00m\n\u001b[0;32m   1301\u001b[0m \u001b[38;5;124;03m    Return the name of the current backend.\u001b[39;00m\n\u001b[0;32m   1302\u001b[0m \n\u001b[1;32m   (...)\u001b[0m\n\u001b[0;32m   1320\u001b[0m \u001b[38;5;124;03m    matplotlib.use\u001b[39;00m\n\u001b[0;32m   1321\u001b[0m \u001b[38;5;124;03m    \"\"\"\u001b[39;00m\n",
      "File \u001b[1;32m~\\PyCharmMiscProject\\.venv\\Lib\\site-packages\\matplotlib\\__init__.py:771\u001b[0m, in \u001b[0;36mRcParams.__setitem__\u001b[1;34m(self, key, val)\u001b[0m\n\u001b[0;32m    769\u001b[0m         cval \u001b[38;5;241m=\u001b[39m \u001b[38;5;28mself\u001b[39m\u001b[38;5;241m.\u001b[39mvalidate[key](val)\n\u001b[0;32m    770\u001b[0m     \u001b[38;5;28;01mexcept\u001b[39;00m \u001b[38;5;167;01mValueError\u001b[39;00m \u001b[38;5;28;01mas\u001b[39;00m ve:\n\u001b[1;32m--> 771\u001b[0m         \u001b[38;5;28;01mraise\u001b[39;00m \u001b[38;5;167;01mValueError\u001b[39;00m(\u001b[38;5;124mf\u001b[39m\u001b[38;5;124m\"\u001b[39m\u001b[38;5;124mKey \u001b[39m\u001b[38;5;132;01m{\u001b[39;00mkey\u001b[38;5;132;01m}\u001b[39;00m\u001b[38;5;124m: \u001b[39m\u001b[38;5;132;01m{\u001b[39;00mve\u001b[38;5;132;01m}\u001b[39;00m\u001b[38;5;124m\"\u001b[39m) \u001b[38;5;28;01mfrom\u001b[39;00m\u001b[38;5;250m \u001b[39m\u001b[38;5;28;01mNone\u001b[39;00m\n\u001b[0;32m    772\u001b[0m     \u001b[38;5;28mself\u001b[39m\u001b[38;5;241m.\u001b[39m_set(key, cval)\n\u001b[0;32m    773\u001b[0m \u001b[38;5;28;01mexcept\u001b[39;00m \u001b[38;5;167;01mKeyError\u001b[39;00m \u001b[38;5;28;01mas\u001b[39;00m err:\n",
      "\u001b[1;31mValueError\u001b[0m: Key backend: 'module://matplotlib_inline.backend_inline' is not a valid value for backend; supported values are ['gtk3agg', 'gtk3cairo', 'gtk4agg', 'gtk4cairo', 'macosx', 'nbagg', 'notebook', 'qtagg', 'qtcairo', 'qt5agg', 'qt5cairo', 'tkagg', 'tkcairo', 'webagg', 'wx', 'wxagg', 'wxcairo', 'agg', 'cairo', 'pdf', 'pgf', 'ps', 'svg', 'template']"
     ]
    }
   ],
   "source": [
    "import matplotlib\n",
    "matplotlib.use('TkAgg')  # O puoi provare 'Qt5Agg' o altri supportati\n",
    "\n",
    "import matplotlib.pyplot as plt\n"
   ]
  },
  {
   "cell_type": "code",
   "execution_count": 6,
   "id": "99d7abbb-88c9-4619-9fae-e23fe5bbd7f8",
   "metadata": {},
   "outputs": [
    {
     "ename": "ValueError",
     "evalue": "Key backend: 'module://matplotlib_inline.backend_inline' is not a valid value for backend; supported values are ['gtk3agg', 'gtk3cairo', 'gtk4agg', 'gtk4cairo', 'macosx', 'nbagg', 'notebook', 'qtagg', 'qtcairo', 'qt5agg', 'qt5cairo', 'tkagg', 'tkcairo', 'webagg', 'wx', 'wxagg', 'wxcairo', 'agg', 'cairo', 'pdf', 'pgf', 'ps', 'svg', 'template']",
     "output_type": "error",
     "traceback": [
      "\u001b[1;31m---------------------------------------------------------------------------\u001b[0m",
      "\u001b[1;31mValueError\u001b[0m                                Traceback (most recent call last)",
      "Cell \u001b[1;32mIn[6], line 1\u001b[0m\n\u001b[1;32m----> 1\u001b[0m \u001b[38;5;28;01mimport\u001b[39;00m\u001b[38;5;250m \u001b[39m\u001b[38;5;21;01mmatplotlib\u001b[39;00m\n\u001b[0;32m      2\u001b[0m matplotlib\u001b[38;5;241m.\u001b[39mrcParams[\u001b[38;5;124m'\u001b[39m\u001b[38;5;124mbackend\u001b[39m\u001b[38;5;124m'\u001b[39m] \u001b[38;5;241m=\u001b[39m \u001b[38;5;124m'\u001b[39m\u001b[38;5;124mTkAgg\u001b[39m\u001b[38;5;124m'\u001b[39m  \u001b[38;5;66;03m# O prova un altro backend come 'Qt5Agg'\u001b[39;00m\n\u001b[0;32m      3\u001b[0m \u001b[38;5;28;01mimport\u001b[39;00m\u001b[38;5;250m \u001b[39m\u001b[38;5;21;01mmatplotlib\u001b[39;00m\u001b[38;5;21;01m.\u001b[39;00m\u001b[38;5;21;01mpyplot\u001b[39;00m\u001b[38;5;250m \u001b[39m\u001b[38;5;28;01mas\u001b[39;00m\u001b[38;5;250m \u001b[39m\u001b[38;5;21;01mplt\u001b[39;00m\n",
      "File \u001b[1;32m~\\PyCharmMiscProject\\.venv\\Lib\\site-packages\\matplotlib\\__init__.py:1296\u001b[0m\n\u001b[0;32m   1292\u001b[0m     rcParams[\u001b[38;5;124m'\u001b[39m\u001b[38;5;124mbackend_fallback\u001b[39m\u001b[38;5;124m'\u001b[39m] \u001b[38;5;241m=\u001b[39m \u001b[38;5;28;01mFalse\u001b[39;00m\n\u001b[0;32m   1295\u001b[0m \u001b[38;5;28;01mif\u001b[39;00m os\u001b[38;5;241m.\u001b[39menviron\u001b[38;5;241m.\u001b[39mget(\u001b[38;5;124m'\u001b[39m\u001b[38;5;124mMPLBACKEND\u001b[39m\u001b[38;5;124m'\u001b[39m):\n\u001b[1;32m-> 1296\u001b[0m     \u001b[43mrcParams\u001b[49m\u001b[43m[\u001b[49m\u001b[38;5;124;43m'\u001b[39;49m\u001b[38;5;124;43mbackend\u001b[39;49m\u001b[38;5;124;43m'\u001b[39;49m\u001b[43m]\u001b[49m \u001b[38;5;241m=\u001b[39m os\u001b[38;5;241m.\u001b[39menviron\u001b[38;5;241m.\u001b[39mget(\u001b[38;5;124m'\u001b[39m\u001b[38;5;124mMPLBACKEND\u001b[39m\u001b[38;5;124m'\u001b[39m)\n\u001b[0;32m   1299\u001b[0m \u001b[38;5;28;01mdef\u001b[39;00m\u001b[38;5;250m \u001b[39m\u001b[38;5;21mget_backend\u001b[39m(\u001b[38;5;241m*\u001b[39m, auto_select\u001b[38;5;241m=\u001b[39m\u001b[38;5;28;01mTrue\u001b[39;00m):\n\u001b[0;32m   1300\u001b[0m \u001b[38;5;250m    \u001b[39m\u001b[38;5;124;03m\"\"\"\u001b[39;00m\n\u001b[0;32m   1301\u001b[0m \u001b[38;5;124;03m    Return the name of the current backend.\u001b[39;00m\n\u001b[0;32m   1302\u001b[0m \n\u001b[1;32m   (...)\u001b[0m\n\u001b[0;32m   1320\u001b[0m \u001b[38;5;124;03m    matplotlib.use\u001b[39;00m\n\u001b[0;32m   1321\u001b[0m \u001b[38;5;124;03m    \"\"\"\u001b[39;00m\n",
      "File \u001b[1;32m~\\PyCharmMiscProject\\.venv\\Lib\\site-packages\\matplotlib\\__init__.py:771\u001b[0m, in \u001b[0;36mRcParams.__setitem__\u001b[1;34m(self, key, val)\u001b[0m\n\u001b[0;32m    769\u001b[0m         cval \u001b[38;5;241m=\u001b[39m \u001b[38;5;28mself\u001b[39m\u001b[38;5;241m.\u001b[39mvalidate[key](val)\n\u001b[0;32m    770\u001b[0m     \u001b[38;5;28;01mexcept\u001b[39;00m \u001b[38;5;167;01mValueError\u001b[39;00m \u001b[38;5;28;01mas\u001b[39;00m ve:\n\u001b[1;32m--> 771\u001b[0m         \u001b[38;5;28;01mraise\u001b[39;00m \u001b[38;5;167;01mValueError\u001b[39;00m(\u001b[38;5;124mf\u001b[39m\u001b[38;5;124m\"\u001b[39m\u001b[38;5;124mKey \u001b[39m\u001b[38;5;132;01m{\u001b[39;00mkey\u001b[38;5;132;01m}\u001b[39;00m\u001b[38;5;124m: \u001b[39m\u001b[38;5;132;01m{\u001b[39;00mve\u001b[38;5;132;01m}\u001b[39;00m\u001b[38;5;124m\"\u001b[39m) \u001b[38;5;28;01mfrom\u001b[39;00m\u001b[38;5;250m \u001b[39m\u001b[38;5;28;01mNone\u001b[39;00m\n\u001b[0;32m    772\u001b[0m     \u001b[38;5;28mself\u001b[39m\u001b[38;5;241m.\u001b[39m_set(key, cval)\n\u001b[0;32m    773\u001b[0m \u001b[38;5;28;01mexcept\u001b[39;00m \u001b[38;5;167;01mKeyError\u001b[39;00m \u001b[38;5;28;01mas\u001b[39;00m err:\n",
      "\u001b[1;31mValueError\u001b[0m: Key backend: 'module://matplotlib_inline.backend_inline' is not a valid value for backend; supported values are ['gtk3agg', 'gtk3cairo', 'gtk4agg', 'gtk4cairo', 'macosx', 'nbagg', 'notebook', 'qtagg', 'qtcairo', 'qt5agg', 'qt5cairo', 'tkagg', 'tkcairo', 'webagg', 'wx', 'wxagg', 'wxcairo', 'agg', 'cairo', 'pdf', 'pgf', 'ps', 'svg', 'template']"
     ]
    }
   ],
   "source": [
    "import matplotlib\n",
    "matplotlib.rcParams['backend'] = 'TkAgg'  # O prova un altro backend come 'Qt5Agg'\n",
    "import matplotlib.pyplot as plt\n",
    "\n"
   ]
  },
  {
   "cell_type": "code",
   "execution_count": null,
   "id": "713c2016-beae-4372-8046-866f72d514c9",
   "metadata": {},
   "outputs": [],
   "source": []
  }
 ],
 "metadata": {
  "kernelspec": {
   "display_name": "Python 3 (ipykernel)",
   "language": "python",
   "name": "python3"
  },
  "language_info": {
   "codemirror_mode": {
    "name": "ipython",
    "version": 3
   },
   "file_extension": ".py",
   "mimetype": "text/x-python",
   "name": "python",
   "nbconvert_exporter": "python",
   "pygments_lexer": "ipython3",
   "version": "3.13.1"
  }
 },
 "nbformat": 4,
 "nbformat_minor": 5
}
